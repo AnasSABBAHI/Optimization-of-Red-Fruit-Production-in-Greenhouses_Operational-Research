{
 "cells": [
  {
   "cell_type": "markdown",
   "metadata": {},
   "source": [
    "# Greenhouse Berry Production Optimization\n",
    "\n",
    "## 1. Project Setup\n",
    "\n",
    "This notebook implements a linear programming model to determine the optimal production plan for a set of 24 greenhouses. The goal is to maximize total profit by selecting the best scenario (fruit, variety, planting type) for each greenhouse.\n",
    "\n",
    "### Libraries"
   ]
  },
  {
   "cell_type": "code",
   "execution_count": 1,
   "metadata": {},
   "outputs": [],
   "source": [
    "import pandas as pd\n",
    "import pulp"
   ]
  },
  {
   "cell_type": "markdown",
   "metadata": {},
   "source": [
    "### 2. Data Loading & Pre-processing\n",
    "\n",
    "Here, we load the datasets and define key parameters for the model."
   ]
  },
  {
   "cell_type": "code",
   "execution_count": 2,
   "metadata": {},
   "outputs": [],
   "source": [
    "# Load datasets from the 'data/' directory\n",
    "dproduction = pd.read_csv('data/Production.csv')\n",
    "dprices = pd.read_csv('data/Prices.csv')\n",
    "dsimulation = pd.read_csv('data/Simulation.csv')\n",
    "dcharges = pd.read_csv('data/Charges_var.csv')\n",
    "\n",
    "# Define global parameters\n",
    "num_greenhouses = 24\n",
    "num_scenarios = 15\n",
    "\n",
    "# Map scenario indices (0-14) to their actual numbers (1, 2, 3, etc.)\n",
    "# This is necessary because the data files use scenario numbers, but Python uses 0-based indices.\n",
    "index_to_scenario = {\n",
    "    0: 1, 1: 2, 2: 3, 3: 4, 4: 5, 5: 8, 6: 9, 7: 10, 8: 11,\n",
    "    9: 12, 10: 13, 11: 14, 12: 15, 13: 18, 14: 19\n",
    "}\n",
    "\n",
    "# Define the weeks associated with each planting month\n",
    "planting_weeks_by_month = {\n",
    "    'Juin': [22, 23, 24, 25, 26],\n",
    "    'Juillet': [27, 28, 29, 30, 31],\n",
    "    'Aout': [31, 32, 33, 34, 35],\n",
    "    'Mai': [18, 19, 20, 21, 22],\n",
    "    'Avril': [14, 15, 16, 17, 18],\n",
    "    'Novembre': [44, 45, 46, 47, 48],\n",
    "    'Octobre': [40, 41, 42, 43, 44]\n",
    "}\n",
    "\n",
    "# Define greenhouse sectors\n",
    "sectors = {\n",
    "    1: [1, 2, 3, 4, 5, 6],\n",
    "    2: [7, 8, 9, 10, 11],\n",
    "    3: [12, 13, 14, 15, 16, 17],\n",
    "    4: [18, 19],\n",
    "    5: [20, 21],\n",
    "    6: [22, 23, 24]\n",
    "}"
   ]
  },
  {
   "cell_type": "markdown",
   "metadata": {},
   "source": [
    "### 3. Model Formulation\n",
    "\n",
    "#### 3.1 Generating Possible Combinations\n",
    "We first generate a list of all valid combinations of (greenhouse, scenario, week) based on the problem's constraints."
   ]
  },
  {
   "cell_type": "code",
   "execution_count": 3,
   "metadata": {},
   "outputs": [],
   "source": [
    "possible_combinations = []\n",
    "\n",
    "for i in range(num_greenhouses):\n",
    "    for j in range(num_scenarios):\n",
    "        # Get greenhouse and scenario details\n",
    "        sector = dsimulation[\"Secteur\"][i]\n",
    "        surface = dsimulation[\"Surface\"][i]\n",
    "        month = dproduction[\"Mois\"][j]\n",
    "        \n",
    "        # Actual scenario number from our map\n",
    "        scenario_num = index_to_scenario[j]\n",
    "\n",
    "        # Constraint: Scenarios 4 and 5 only in Sector 6\n",
    "        if scenario_num in [4, 5] and sector != 6:\n",
    "            continue\n",
    "            \n",
    "        # Constraint: Scenarios 12, 13, 14, 18 only in Sector 5 and surface < 2.87ha\n",
    "        if scenario_num in [12, 13, 14, 18] and (sector != 5 or surface >= 2.87):\n",
    "            continue\n",
    "            \n",
    "        # If constraints are met, add the combinations for each possible week\n",
    "        possible_weeks = planting_weeks_by_month[month]\n",
    "        for t in possible_weeks:\n",
    "            possible_combinations.append((i, j, t))\n",
    "\n",
    "print(f\"Total valid combinations generated: {len(possible_combinations)}\")"
   ]
  },
   {
   "cell_type": "markdown",
   "metadata": {},
   "source": [
    "#### 3.2 Defining Decision Variables"
   ]
  },
  {
   "cell_type": "code",
   "execution_count": 4,
   "metadata": {},
   "outputs": [],
   "source": [
    "# Create a dictionary of binary decision variables for each valid combination\n",
    "X = pulp.LpVariable.dicts(\"X\", possible_combinations, cat='Binary')"
   ]
  },
  {
   "cell_type": "markdown",
   "metadata": {},
   "source": [
    "#### 3.3 Helper Functions for Objective Function\n",
    "These functions calculate the revenue (CA) and variable costs (CV) for any given combination."
   ]
  },
  {
   "cell_type": "code",
   "execution_count": 5,
   "metadata": {},
   "outputs": [],
   "source": [
    "def get_production(scenario_idx, week_num):\n",
    "    return dproduction[f\"W{week_num}\"][scenario_idx]\n",
    "\n",
    "def get_price(scenario_idx, time_index):\n",
    "    culture = dproduction[\"Culture\"][scenario_idx]\n",
    "    # Ensure the time index for price lookup is within bounds (1 to 90)\n",
    "    if 1 <= time_index <= len(dprices):\n",
    "        return dprices[culture][time_index - 1] # -1 for 0-based index\n",
    "    return 0\n",
    "\n",
    "def calculate_revenue(combination):\n",
    "    i, j, t = combination\n",
    "    surface = dsimulation[\"Surface\"][i]\n",
    "    delay = dproduction[\"Delai\"][j]\n",
    "    total_revenue = 0\n",
    "    for week_of_prod in range(1, 38):\n",
    "        price_week_index = t + week_of_prod + delay\n",
    "        weekly_prod = get_production(j, week_of_prod)\n",
    "        weekly_price = get_price(j, price_week_index)\n",
    "        total_revenue += weekly_prod * surface * weekly_price\n",
    "    return total_revenue\n",
    "\n",
    "def calculate_variable_cost(combination):\n",
    "    i, j, _ = combination\n",
    "    surface = dsimulation[\"Surface\"][i]\n",
    "    cost_per_ha = dcharges[\"Cout\"][j]\n",
    "    return surface * cost_per_ha\n",
    "\n",
    "def calculate_total_production(combination):\n",
    "    i, j, _ = combination\n",
    "    surface = dsimulation[\"Surface\"][i]\n",
    "    total_prod = 0\n",
    "    for week_of_prod in range(1, 38):\n",
    "        total_prod += get_production(j, week_of_prod)\n",
    "    return total_prod * surface"
   ]
  },
    {
   "cell_type": "markdown",
   "metadata": {},
   "source": [
    "#### 3.4 Pre-calculating Profit and Production for All Combinations\n",
    "To make the model definition cleaner and faster, we pre-calculate the profit and total production for every valid combination."
   ]
  },
  {
   "cell_type": "code",
   "execution_count": 6,
   "metadata": {},
   "outputs": [],
   "source": [
    "profit_map = {combo: calculate_revenue(combo) - calculate_variable_cost(combo) for combo in possible_combinations}\n",
    "production_map = {combo: calculate_total_production(combo) for combo in possible_combinations}"
   ]
  },
  {
   "cell_type": "markdown",
   "metadata": {},
   "source": [
    "### 4. Defining the PuLP Model\n",
    "\n",
    "#### 4.1 Initialize the Model"
   ]
  },
  {
   "cell_type": "code",
   "execution_count": 7,
   "metadata": {},
   "outputs": [],
   "source": [
    "# Create a maximization problem\n",
    "model = pulp.LpProblem(\"Red_Fruit_Production_Optimization\", pulp.LpMaximize)"
   ]
  },
  {
   "cell_type": "markdown",
   "metadata": {},
   "source": [
    "#### 4.2 Define the Objective Function"
   ]
  },
  {
   "cell_type": "code",
   "execution_count": 8,
   "metadata": {},
   "outputs": [],
   "source": [
    "# The objective is to maximize the sum of profits from all chosen combinations\n",
    "model += pulp.lpSum([profit_map[combo] * X[combo] for combo in possible_combinations])"
   ]
  },
  {
   "cell_type": "markdown",
   "metadata": {},
   "source": [
    "#### 4.3 Define the Constraints"
   ]
  },
  {
   "cell_type": "code",
   "execution_count": 9,
   "metadata": {},
   "outputs": [],
   "source": [
    "# Constraint 1: Each greenhouse must be assigned exactly one scenario and start week.\n",
    "for i in range(num_greenhouses):\n",
    "    model += pulp.lpSum([X[combo] for combo in possible_combinations if combo[0] == i]) == 1\n",
    "\n",
    "# --- OPTIONAL CONSTRAINTS ---\n",
    "# To activate a constraint, uncomment the relevant lines of code.\n",
    "\n",
    "# Optional Constraint 2: Total production limit.\n",
    "# threshold = 600000\n",
    "# model += pulp.lpSum([production_map[combo] * X[combo] for combo in possible_combinations]) <= threshold\n",
    "\n",
    "# Optional Constraint 3: Scenario consistency within each sector.\n",
    "# for sector_id, greenhouse_list in sectors.items():\n",
    "#     first_greenhouse_idx = greenhouse_list[0] - 1\n",
    "#     # Find all scenarios possible for the first greenhouse in the sector\n",
    "#     possible_scenarios_for_sector = list(set([c[1] for c in possible_combinations if c[0] == first_greenhouse_idx]))\n",
    "#     for j in possible_scenarios_for_sector:\n",
    "#         for i_gh in greenhouse_list[1:]:\n",
    "#             # The decision to use scenario 'j' must be the same for all greenhouses in the sector\n",
    "#             model += pulp.lpSum([X[c] for c in possible_combinations if c[0] == (i_gh - 1) and c[1] == j]) == \\\n",
    "#                      pulp.lpSum([X[c] for c in possible_combinations if c[0] == first_greenhouse_idx and c[1] == j])"
   ]
  },
  {
   "cell_type": "markdown",
   "metadata": {},
   "source": [
    "### 5. Solve the Model and Display Results"
   ]
  },
  {
   "cell_type": "code",
   "execution_count": 10,
   "metadata": {},
   "outputs": [
    {
     "name": "stdout",
     "output_type": "stream",
     "text": [
      "Solver found an optimal solution.\n",
      "Status: Optimal\n",
      "Total Optimal Profit: € 9,433,967.50\n",
      "------------------------------------------\n",
      "Optimal Plan:\n",
      "------------------------------------------\n",
      "- Greenhouse  1: Use Scenario 15, Start Week 18\n",
      "- Greenhouse  2: Use Scenario 15, Start Week 18\n",
      "- Greenhouse  3: Use Scenario 15, Start Week 18\n",
      "- Greenhouse  4: Use Scenario 15, Start Week 18\n",
      "- Greenhouse  5: Use Scenario 15, Start Week 18\n",
      "- Greenhouse  6: Use Scenario 15, Start Week 18\n",
      "- Greenhouse  7: Use Scenario 15, Start Week 18\n",
      "- Greenhouse  8: Use Scenario 15, Start Week 18\n",
      "- Greenhouse  9: Use Scenario 15, Start Week 18\n",
      "- Greenhouse 10: Use Scenario 15, Start Week 18\n",
      "- Greenhouse 11: Use Scenario 15, Start Week 18\n",
      "- Greenhouse 12: Use Scenario 15, Start Week 18\n",
      "- Greenhouse 13: Use Scenario 15, Start Week 18\n",
      "- Greenhouse 14: Use Scenario 15, Start Week 18\n",
      "- Greenhouse 15: Use Scenario 15, Start Week 18\n",
      "- Greenhouse 16: Use Scenario 15, Start Week 18\n",
      "- Greenhouse 17: Use Scenario 15, Start Week 18\n",
      "- Greenhouse 18: Use Scenario 15, Start Week 18\n",
      "- Greenhouse 19: Use Scenario 15, Start Week 18\n",
      "- Greenhouse 20: Use Scenario 15, Start Week 18\n",
      "- Greenhouse 21: Use Scenario 15, Start Week 18\n",
      "- Greenhouse 22: Use Scenario  5, Start Week 14\n",
      "- Greenhouse 23: Use Scenario  5, Start Week 14\n",
      "- Greenhouse 24: Use Scenario  5, Start Week 14\n"
     ]
    }
   ],
   "source": [
    "# Solve the model\n",
    "model.solve()\n",
    "\n",
    "# Check the status of the solution\n",
    "if pulp.LpStatus[model.status] == 'Optimal':\n",
    "    print(\"Solver found an optimal solution.\")\n",
    "    print(f\"Status: {pulp.LpStatus[model.status]}\")\n",
    "    print(f\"Total Optimal Profit: € {pulp.value(model.objective):,.2f}\")\n",
    "    print(\"-\"*42)\n",
    "    print(\"Optimal Plan:\")\n",
    "    print(\"-\"*42)\n",
    "    \n",
    "    # Create a list to hold results for sorting\n",
    "    results = []\n",
    "    for combo in possible_combinations:\n",
    "        if X[combo].varValue == 1:\n",
    "            i, j, t = combo\n",
    "            results.append({\n",
    "                'greenhouse': i + 1,\n",
    "                'scenario': index_to_scenario[j],\n",
    "                'week': t\n",
    "            })\n",
    "            \n",
    "    # Sort results by greenhouse number and print\n",
    "    for res in sorted(results, key=lambda x: x['greenhouse']):\n",
    "        print(f\"- Greenhouse {res['greenhouse']:2}: Use Scenario {res['scenario']:2}, Start Week {res['week']}\")\n",
    "else:\n",
    "    print(f\"Solver could not find an optimal solution. Status: {pulp.LpStatus[model.status]}\")"
   ]
  }
 ],
 "metadata": {
  "kernelspec": {
   "display_name": "Python 3",
   "language": "python",
   "name": "python3"
  },
  "language_info": {
   "codemirror_mode": {
    "name": "ipython",
    "version": 3
   },
   "file_extension": ".py",
   "mimetype": "text/x-python",
   "name": "python",
   "nbconvert_exporter": "python",
   "pygments_lexer": "ipython3",
   "version": "3.9.7"
  }
 },
 "nbformat": 4,
 "nbformat_minor": 2
}